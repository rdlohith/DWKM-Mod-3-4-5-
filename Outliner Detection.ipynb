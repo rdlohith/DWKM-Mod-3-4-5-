{
 "cells": [
  {
   "cell_type": "code",
   "execution_count": 1,
   "id": "2479ecdd",
   "metadata": {},
   "outputs": [
    {
     "data": {
      "text/html": [
       "<div>\n",
       "<style scoped>\n",
       "    .dataframe tbody tr th:only-of-type {\n",
       "        vertical-align: middle;\n",
       "    }\n",
       "\n",
       "    .dataframe tbody tr th {\n",
       "        vertical-align: top;\n",
       "    }\n",
       "\n",
       "    .dataframe thead th {\n",
       "        text-align: right;\n",
       "    }\n",
       "</style>\n",
       "<table border=\"1\" class=\"dataframe\">\n",
       "  <thead>\n",
       "    <tr style=\"text-align: right;\">\n",
       "      <th></th>\n",
       "      <th>mobile_number</th>\n",
       "      <th>circle_id</th>\n",
       "      <th>loc_og_t2o_mou</th>\n",
       "      <th>std_og_t2o_mou</th>\n",
       "      <th>loc_ic_t2o_mou</th>\n",
       "      <th>last_date_of_month_6</th>\n",
       "      <th>last_date_of_month_7</th>\n",
       "      <th>last_date_of_month_8</th>\n",
       "      <th>last_date_of_month_9</th>\n",
       "      <th>arpu_6</th>\n",
       "      <th>...</th>\n",
       "      <th>sachet_3g_9</th>\n",
       "      <th>fb_user_6</th>\n",
       "      <th>fb_user_7</th>\n",
       "      <th>fb_user_8</th>\n",
       "      <th>fb_user_9</th>\n",
       "      <th>aon</th>\n",
       "      <th>aug_vbc_3g</th>\n",
       "      <th>jul_vbc_3g</th>\n",
       "      <th>jun_vbc_3g</th>\n",
       "      <th>sep_vbc_3g</th>\n",
       "    </tr>\n",
       "  </thead>\n",
       "  <tbody>\n",
       "    <tr>\n",
       "      <th>0</th>\n",
       "      <td>7000842753</td>\n",
       "      <td>109</td>\n",
       "      <td>0.0</td>\n",
       "      <td>0.0</td>\n",
       "      <td>0.0</td>\n",
       "      <td>6/30/2014</td>\n",
       "      <td>7/31/2014</td>\n",
       "      <td>8/31/2014</td>\n",
       "      <td>9/30/2014</td>\n",
       "      <td>197.385</td>\n",
       "      <td>...</td>\n",
       "      <td>0</td>\n",
       "      <td>1.0</td>\n",
       "      <td>1.0</td>\n",
       "      <td>1.0</td>\n",
       "      <td>NaN</td>\n",
       "      <td>968</td>\n",
       "      <td>30.4</td>\n",
       "      <td>0.0</td>\n",
       "      <td>101.20</td>\n",
       "      <td>3.58</td>\n",
       "    </tr>\n",
       "    <tr>\n",
       "      <th>1</th>\n",
       "      <td>7001865778</td>\n",
       "      <td>109</td>\n",
       "      <td>0.0</td>\n",
       "      <td>0.0</td>\n",
       "      <td>0.0</td>\n",
       "      <td>6/30/2014</td>\n",
       "      <td>7/31/2014</td>\n",
       "      <td>8/31/2014</td>\n",
       "      <td>9/30/2014</td>\n",
       "      <td>34.047</td>\n",
       "      <td>...</td>\n",
       "      <td>0</td>\n",
       "      <td>NaN</td>\n",
       "      <td>1.0</td>\n",
       "      <td>1.0</td>\n",
       "      <td>NaN</td>\n",
       "      <td>1006</td>\n",
       "      <td>0.0</td>\n",
       "      <td>0.0</td>\n",
       "      <td>0.00</td>\n",
       "      <td>0.00</td>\n",
       "    </tr>\n",
       "    <tr>\n",
       "      <th>2</th>\n",
       "      <td>7001625959</td>\n",
       "      <td>109</td>\n",
       "      <td>0.0</td>\n",
       "      <td>0.0</td>\n",
       "      <td>0.0</td>\n",
       "      <td>6/30/2014</td>\n",
       "      <td>7/31/2014</td>\n",
       "      <td>8/31/2014</td>\n",
       "      <td>9/30/2014</td>\n",
       "      <td>167.690</td>\n",
       "      <td>...</td>\n",
       "      <td>0</td>\n",
       "      <td>NaN</td>\n",
       "      <td>NaN</td>\n",
       "      <td>NaN</td>\n",
       "      <td>1.0</td>\n",
       "      <td>1103</td>\n",
       "      <td>0.0</td>\n",
       "      <td>0.0</td>\n",
       "      <td>4.17</td>\n",
       "      <td>0.00</td>\n",
       "    </tr>\n",
       "    <tr>\n",
       "      <th>3</th>\n",
       "      <td>7001204172</td>\n",
       "      <td>109</td>\n",
       "      <td>0.0</td>\n",
       "      <td>0.0</td>\n",
       "      <td>0.0</td>\n",
       "      <td>6/30/2014</td>\n",
       "      <td>7/31/2014</td>\n",
       "      <td>8/31/2014</td>\n",
       "      <td>9/30/2014</td>\n",
       "      <td>221.338</td>\n",
       "      <td>...</td>\n",
       "      <td>0</td>\n",
       "      <td>NaN</td>\n",
       "      <td>NaN</td>\n",
       "      <td>NaN</td>\n",
       "      <td>NaN</td>\n",
       "      <td>2491</td>\n",
       "      <td>0.0</td>\n",
       "      <td>0.0</td>\n",
       "      <td>0.00</td>\n",
       "      <td>0.00</td>\n",
       "    </tr>\n",
       "    <tr>\n",
       "      <th>4</th>\n",
       "      <td>7000142493</td>\n",
       "      <td>109</td>\n",
       "      <td>0.0</td>\n",
       "      <td>0.0</td>\n",
       "      <td>0.0</td>\n",
       "      <td>6/30/2014</td>\n",
       "      <td>7/31/2014</td>\n",
       "      <td>8/31/2014</td>\n",
       "      <td>9/30/2014</td>\n",
       "      <td>261.636</td>\n",
       "      <td>...</td>\n",
       "      <td>0</td>\n",
       "      <td>0.0</td>\n",
       "      <td>NaN</td>\n",
       "      <td>NaN</td>\n",
       "      <td>NaN</td>\n",
       "      <td>1526</td>\n",
       "      <td>0.0</td>\n",
       "      <td>0.0</td>\n",
       "      <td>0.00</td>\n",
       "      <td>0.00</td>\n",
       "    </tr>\n",
       "  </tbody>\n",
       "</table>\n",
       "<p>5 rows × 226 columns</p>\n",
       "</div>"
      ],
      "text/plain": [
       "   mobile_number  circle_id  loc_og_t2o_mou  std_og_t2o_mou  loc_ic_t2o_mou  \\\n",
       "0  7000842753     109        0.0             0.0             0.0              \n",
       "1  7001865778     109        0.0             0.0             0.0              \n",
       "2  7001625959     109        0.0             0.0             0.0              \n",
       "3  7001204172     109        0.0             0.0             0.0              \n",
       "4  7000142493     109        0.0             0.0             0.0              \n",
       "\n",
       "  last_date_of_month_6 last_date_of_month_7 last_date_of_month_8  \\\n",
       "0  6/30/2014            7/31/2014            8/31/2014             \n",
       "1  6/30/2014            7/31/2014            8/31/2014             \n",
       "2  6/30/2014            7/31/2014            8/31/2014             \n",
       "3  6/30/2014            7/31/2014            8/31/2014             \n",
       "4  6/30/2014            7/31/2014            8/31/2014             \n",
       "\n",
       "  last_date_of_month_9   arpu_6  ...  sachet_3g_9  fb_user_6  fb_user_7  \\\n",
       "0  9/30/2014            197.385  ...  0            1.0        1.0         \n",
       "1  9/30/2014            34.047   ...  0           NaN         1.0         \n",
       "2  9/30/2014            167.690  ...  0           NaN        NaN          \n",
       "3  9/30/2014            221.338  ...  0           NaN        NaN          \n",
       "4  9/30/2014            261.636  ...  0            0.0       NaN          \n",
       "\n",
       "   fb_user_8  fb_user_9   aon  aug_vbc_3g  jul_vbc_3g  jun_vbc_3g  sep_vbc_3g  \n",
       "0  1.0       NaN         968   30.4        0.0         101.20      3.58        \n",
       "1  1.0       NaN         1006  0.0         0.0         0.00        0.00        \n",
       "2 NaN         1.0        1103  0.0         0.0         4.17        0.00        \n",
       "3 NaN        NaN         2491  0.0         0.0         0.00        0.00        \n",
       "4 NaN        NaN         1526  0.0         0.0         0.00        0.00        \n",
       "\n",
       "[5 rows x 226 columns]"
      ]
     },
     "execution_count": 1,
     "metadata": {},
     "output_type": "execute_result"
    }
   ],
   "source": [
    "import pandas as pd\n",
    "import numpy as np\n",
    "import seaborn as sb\n",
    "import matplotlib.pyplot as plt\n",
    "import warnings\n",
    "warnings.filterwarnings('ignore')\n",
    "plt.style.use('ggplot')\n",
    "%matplotlib inline\n",
    "\n",
    "from sklearn.linear_model import LogisticRegression\n",
    "from sklearn.ensemble import RandomForestClassifier\n",
    "from sklearn.svm import SVC\n",
    "from sklearn.naive_bayes import MultinomialNB\n",
    "from sklearn import metrics\n",
    "from sklearn.model_selection import KFold\n",
    "from sklearn.model_selection import cross_val_score\n",
    "from sklearn.model_selection import GridSearchCV\n",
    "from sklearn.metrics import f1_score\n",
    "from sklearn.metrics import accuracy_score\n",
    "from sklearn.metrics import precision_score\n",
    "from sklearn.metrics import recall_score\n",
    "from sklearn.naive_bayes import GaussianNB\n",
    "\n",
    "\n",
    "pd.set_option('display.max_colwidth', -1)\n",
    "\n",
    "data = pd.read_csv(\"telecom_churn_data.csv\")\n",
    "data.head()"
   ]
  },
  {
   "cell_type": "code",
   "execution_count": 2,
   "id": "e387ee8c",
   "metadata": {},
   "outputs": [
    {
     "data": {
      "text/plain": [
       "(99999, 226)"
      ]
     },
     "execution_count": 2,
     "metadata": {},
     "output_type": "execute_result"
    }
   ],
   "source": [
    "data.dropna(axis = 1, how = 'all', inplace = True)\n",
    "data.dropna(how='all', inplace=True)\n",
    "data.shape"
   ]
  },
  {
   "cell_type": "code",
   "execution_count": 3,
   "id": "7bdd44db",
   "metadata": {},
   "outputs": [],
   "source": [
    "data.update(data[['total_rech_data_6','total_rech_data_7','total_rech_data_8','total_rech_data_9']].fillna(0))\n",
    "data.update(data[['av_rech_amt_data_6','av_rech_amt_data_7', 'av_rech_amt_data_8', 'av_rech_amt_data_9']].fillna(0))\n",
    "data.update(data[['max_rech_data_6','max_rech_data_7', 'max_rech_data_8', 'max_rech_data_9']].fillna(0))\n",
    "data.update(data[['count_rech_2g_6','count_rech_2g_7', 'count_rech_2g_8', 'count_rech_2g_9']].fillna(0))\n",
    "data.update(data[['count_rech_3g_6','count_rech_3g_7', 'count_rech_3g_8', 'count_rech_3g_9']].fillna(0))\n",
    "data.update(data[['night_pck_user_6','night_pck_user_7', 'night_pck_user_8', 'night_pck_user_9']].fillna(0))\n",
    "data.update(data[['arpu_3g_6','arpu_3g_7', 'arpu_3g_8', 'arpu_3g_9']].fillna(0))\n",
    "data.update(data[['arpu_2g_6','arpu_2g_7', 'arpu_2g_8', 'arpu_2g_9']].fillna(0))\n",
    "data.update(data[['fb_user_6','fb_user_7', 'fb_user_8', 'fb_user_9']].fillna(0))"
   ]
  },
  {
   "cell_type": "code",
   "execution_count": 4,
   "id": "8b09b8d4",
   "metadata": {},
   "outputs": [
    {
     "data": {
      "text/plain": [
       "mobile_number     0   \n",
       "circle_id         0   \n",
       "loc_og_t2o_mou    1018\n",
       "std_og_t2o_mou    1018\n",
       "loc_ic_t2o_mou    1018\n",
       "                  ... \n",
       "aon               0   \n",
       "aug_vbc_3g        0   \n",
       "jul_vbc_3g        0   \n",
       "jun_vbc_3g        0   \n",
       "sep_vbc_3g        0   \n",
       "Length: 226, dtype: int64"
      ]
     },
     "execution_count": 4,
     "metadata": {},
     "output_type": "execute_result"
    }
   ],
   "source": [
    "data.isnull().sum()"
   ]
  },
  {
   "cell_type": "code",
   "execution_count": 5,
   "id": "04da676c",
   "metadata": {},
   "outputs": [],
   "source": [
    "data.update(data[['loc_og_t2o_mou','loc_ic_t2o_mou','std_og_t2o_mou']].fillna(0))"
   ]
  },
  {
   "cell_type": "code",
   "execution_count": 6,
   "id": "7cfb20d4",
   "metadata": {},
   "outputs": [
    {
     "data": {
      "text/html": [
       "<div>\n",
       "<style scoped>\n",
       "    .dataframe tbody tr th:only-of-type {\n",
       "        vertical-align: middle;\n",
       "    }\n",
       "\n",
       "    .dataframe tbody tr th {\n",
       "        vertical-align: top;\n",
       "    }\n",
       "\n",
       "    .dataframe thead th {\n",
       "        text-align: right;\n",
       "    }\n",
       "</style>\n",
       "<table border=\"1\" class=\"dataframe\">\n",
       "  <thead>\n",
       "    <tr style=\"text-align: right;\">\n",
       "      <th></th>\n",
       "      <th>na_perc</th>\n",
       "      <th>column</th>\n",
       "      <th>col_type</th>\n",
       "    </tr>\n",
       "  </thead>\n",
       "  <tbody>\n",
       "    <tr>\n",
       "      <th>13</th>\n",
       "      <td>3.937039</td>\n",
       "      <td>onnet_mou_6</td>\n",
       "      <td>numerical</td>\n",
       "    </tr>\n",
       "    <tr>\n",
       "      <th>14</th>\n",
       "      <td>3.859039</td>\n",
       "      <td>onnet_mou_7</td>\n",
       "      <td>numerical</td>\n",
       "    </tr>\n",
       "    <tr>\n",
       "      <th>15</th>\n",
       "      <td>5.378054</td>\n",
       "      <td>onnet_mou_8</td>\n",
       "      <td>numerical</td>\n",
       "    </tr>\n",
       "    <tr>\n",
       "      <th>16</th>\n",
       "      <td>7.745077</td>\n",
       "      <td>onnet_mou_9</td>\n",
       "      <td>numerical</td>\n",
       "    </tr>\n",
       "    <tr>\n",
       "      <th>17</th>\n",
       "      <td>3.937039</td>\n",
       "      <td>offnet_mou_6</td>\n",
       "      <td>numerical</td>\n",
       "    </tr>\n",
       "    <tr>\n",
       "      <th>...</th>\n",
       "      <td>...</td>\n",
       "      <td>...</td>\n",
       "      <td>...</td>\n",
       "    </tr>\n",
       "    <tr>\n",
       "      <th>152</th>\n",
       "      <td>4.760048</td>\n",
       "      <td>date_of_last_rech_9</td>\n",
       "      <td>categorical</td>\n",
       "    </tr>\n",
       "    <tr>\n",
       "      <th>157</th>\n",
       "      <td>74.846748</td>\n",
       "      <td>date_of_last_rech_data_6</td>\n",
       "      <td>categorical</td>\n",
       "    </tr>\n",
       "    <tr>\n",
       "      <th>158</th>\n",
       "      <td>74.428744</td>\n",
       "      <td>date_of_last_rech_data_7</td>\n",
       "      <td>categorical</td>\n",
       "    </tr>\n",
       "    <tr>\n",
       "      <th>159</th>\n",
       "      <td>73.660737</td>\n",
       "      <td>date_of_last_rech_data_8</td>\n",
       "      <td>categorical</td>\n",
       "    </tr>\n",
       "    <tr>\n",
       "      <th>160</th>\n",
       "      <td>74.077741</td>\n",
       "      <td>date_of_last_rech_data_9</td>\n",
       "      <td>categorical</td>\n",
       "    </tr>\n",
       "  </tbody>\n",
       "</table>\n",
       "<p>124 rows × 3 columns</p>\n",
       "</div>"
      ],
      "text/plain": [
       "       na_perc                    column     col_type\n",
       "13   3.937039   onnet_mou_6               numerical  \n",
       "14   3.859039   onnet_mou_7               numerical  \n",
       "15   5.378054   onnet_mou_8               numerical  \n",
       "16   7.745077   onnet_mou_9               numerical  \n",
       "17   3.937039   offnet_mou_6              numerical  \n",
       "..        ...            ...                    ...  \n",
       "152  4.760048   date_of_last_rech_9       categorical\n",
       "157  74.846748  date_of_last_rech_data_6  categorical\n",
       "158  74.428744  date_of_last_rech_data_7  categorical\n",
       "159  73.660737  date_of_last_rech_data_8  categorical\n",
       "160  74.077741  date_of_last_rech_data_9  categorical\n",
       "\n",
       "[124 rows x 3 columns]"
      ]
     },
     "execution_count": 6,
     "metadata": {},
     "output_type": "execute_result"
    }
   ],
   "source": [
    "CAT = 'categorical'\n",
    "NUM = 'numerical'\n",
    "\n",
    "def get_col_type(col):\n",
    "    cols = data.columns\n",
    "    num_cols = data._get_numeric_data().columns\n",
    "    if(col in num_cols):\n",
    "        if('night_pck'==col[0:9] or 'fb_user'==col[0:7] or 'sachet' == col[0:6]):\n",
    "            return CAT\n",
    "        else:\n",
    "            return NUM\n",
    "    else:\n",
    "        return CAT\n",
    "\n",
    "def generate_null_dataframe(data):\n",
    "    null_df = pd.DataFrame(data.isnull().sum()*100/len(data), columns=['na_perc'])\n",
    "    null_df['column'] = null_df.index\n",
    "    null_df.index = range(0,len(null_df['column']))\n",
    "    null_df['col_type'] = null_df['column'].map(get_col_type)\n",
    "    null_df = null_df[null_df.na_perc > 0]\n",
    "    return null_df\n",
    "\n",
    "def impute_cols_perc(null_df, data, perc):\n",
    "    ndf = null_df.copy()\n",
    "    ndf = ndf[ndf.na_perc > perc] \n",
    "    for index, row in ndf.iterrows():\n",
    "        colname = row['column']\n",
    "        if(CAT == row['col_type'] and 'date' != colname[0:4]):\n",
    "            data[colname] = data[colname].fillna(-1)\n",
    "        else:\n",
    "            data[colname] = data[colname].fillna(0)\n",
    "\n",
    "def impute_with_mode(data, cols):\n",
    "    for column in cols:\n",
    "        data[column].fillna(data[column].mode()[0], inplace=True)\n",
    "        \n",
    "cols = [c for c in data.columns if c[0:18] == 'last_date_of_month']\n",
    "impute_with_mode(data, cols)\n",
    "null_df = generate_null_dataframe(data)\n",
    "null_df"
   ]
  },
  {
   "cell_type": "code",
   "execution_count": 7,
   "id": "a91bc6a2",
   "metadata": {},
   "outputs": [],
   "source": [
    "data.drop(['date_of_last_rech_data_6','date_of_last_rech_data_7','date_of_last_rech_data_8', \n",
    "           'date_of_last_rech_data_9'], axis=1, inplace=True)"
   ]
  },
  {
   "cell_type": "code",
   "execution_count": 8,
   "id": "b35a961d",
   "metadata": {},
   "outputs": [],
   "source": [
    "#understanding data and renaming confusing column names\n",
    "data = data.rename(columns={'aug_vbc_3g': 'vbc_3g_8', 'jun_vbc_3g': 'vbc_3g_6', 'jul_vbc_3g': 'vbc_3g_7', \n",
    "                            'sep_vbc_3g': 'vbc_3g_9'})"
   ]
  },
  {
   "cell_type": "code",
   "execution_count": 10,
   "id": "e81c8f59",
   "metadata": {},
   "outputs": [
    {
     "data": {
      "text/plain": [
       "478.0"
      ]
     },
     "execution_count": 10,
     "metadata": {},
     "output_type": "execute_result"
    }
   ],
   "source": [
    "data['total_rech_6'] = (data['av_rech_amt_data_6']*data['total_rech_data_6']) + data['total_rech_amt_6']\n",
    "data['total_rech_7'] = (data['av_rech_amt_data_7']*data['total_rech_data_7']) + data['total_rech_amt_7']\n",
    "data['total_rech_8'] = (data['av_rech_amt_data_8']*data['total_rech_data_8']) + data['total_rech_amt_8']\n",
    "data['avg_rech_amt_6_7'] = (data['total_rech_6'] + data['total_rech_7'])/2\n",
    "\n",
    "perct_70 = data['avg_rech_amt_6_7'].quantile(0.7)\n",
    "perct_70"
   ]
  },
  {
   "cell_type": "code",
   "execution_count": 11,
   "id": "428af5a5",
   "metadata": {},
   "outputs": [
    {
     "data": {
      "text/plain": [
       "churn\n",
       "0    89808\n",
       "1    10191\n",
       "Name: churn, dtype: int64"
      ]
     },
     "execution_count": 11,
     "metadata": {},
     "output_type": "execute_result"
    }
   ],
   "source": [
    "#churn value = rate at which customers stop doing business with a company over a given period of time\n",
    "def churn(row):\n",
    "    if ((row['total_ic_mou_9'] == 0) & (row['total_og_mou_9'] == 0) & (row['vol_2g_mb_9'] == 0) & (row['vol_3g_mb_9'] == 0)):\n",
    "        return 1\n",
    "    else:\n",
    "        return 0\n",
    "    \n",
    "data['churn'] = data.apply(churn, axis=1)\n",
    "data.groupby('churn')['churn'].count()"
   ]
  },
  {
   "cell_type": "code",
   "execution_count": 12,
   "id": "4a0956f3",
   "metadata": {},
   "outputs": [
    {
     "data": {
      "text/html": [
       "<div>\n",
       "<style scoped>\n",
       "    .dataframe tbody tr th:only-of-type {\n",
       "        vertical-align: middle;\n",
       "    }\n",
       "\n",
       "    .dataframe tbody tr th {\n",
       "        vertical-align: top;\n",
       "    }\n",
       "\n",
       "    .dataframe thead th {\n",
       "        text-align: right;\n",
       "    }\n",
       "</style>\n",
       "<table border=\"1\" class=\"dataframe\">\n",
       "  <thead>\n",
       "    <tr style=\"text-align: right;\">\n",
       "      <th></th>\n",
       "      <th>na_perc</th>\n",
       "      <th>column</th>\n",
       "      <th>col_type</th>\n",
       "    </tr>\n",
       "  </thead>\n",
       "  <tbody>\n",
       "    <tr>\n",
       "      <th>13</th>\n",
       "      <td>3.937039</td>\n",
       "      <td>onnet_mou_6</td>\n",
       "      <td>numerical</td>\n",
       "    </tr>\n",
       "    <tr>\n",
       "      <th>14</th>\n",
       "      <td>3.859039</td>\n",
       "      <td>onnet_mou_7</td>\n",
       "      <td>numerical</td>\n",
       "    </tr>\n",
       "    <tr>\n",
       "      <th>15</th>\n",
       "      <td>5.378054</td>\n",
       "      <td>onnet_mou_8</td>\n",
       "      <td>numerical</td>\n",
       "    </tr>\n",
       "    <tr>\n",
       "      <th>16</th>\n",
       "      <td>7.745077</td>\n",
       "      <td>onnet_mou_9</td>\n",
       "      <td>numerical</td>\n",
       "    </tr>\n",
       "    <tr>\n",
       "      <th>17</th>\n",
       "      <td>3.937039</td>\n",
       "      <td>offnet_mou_6</td>\n",
       "      <td>numerical</td>\n",
       "    </tr>\n",
       "    <tr>\n",
       "      <th>...</th>\n",
       "      <td>...</td>\n",
       "      <td>...</td>\n",
       "      <td>...</td>\n",
       "    </tr>\n",
       "    <tr>\n",
       "      <th>136</th>\n",
       "      <td>7.745077</td>\n",
       "      <td>ic_others_9</td>\n",
       "      <td>numerical</td>\n",
       "    </tr>\n",
       "    <tr>\n",
       "      <th>149</th>\n",
       "      <td>1.607016</td>\n",
       "      <td>date_of_last_rech_6</td>\n",
       "      <td>categorical</td>\n",
       "    </tr>\n",
       "    <tr>\n",
       "      <th>150</th>\n",
       "      <td>1.767018</td>\n",
       "      <td>date_of_last_rech_7</td>\n",
       "      <td>categorical</td>\n",
       "    </tr>\n",
       "    <tr>\n",
       "      <th>151</th>\n",
       "      <td>3.622036</td>\n",
       "      <td>date_of_last_rech_8</td>\n",
       "      <td>categorical</td>\n",
       "    </tr>\n",
       "    <tr>\n",
       "      <th>152</th>\n",
       "      <td>4.760048</td>\n",
       "      <td>date_of_last_rech_9</td>\n",
       "      <td>categorical</td>\n",
       "    </tr>\n",
       "  </tbody>\n",
       "</table>\n",
       "<p>120 rows × 3 columns</p>\n",
       "</div>"
      ],
      "text/plain": [
       "      na_perc               column     col_type\n",
       "13   3.937039  onnet_mou_6          numerical  \n",
       "14   3.859039  onnet_mou_7          numerical  \n",
       "15   5.378054  onnet_mou_8          numerical  \n",
       "16   7.745077  onnet_mou_9          numerical  \n",
       "17   3.937039  offnet_mou_6         numerical  \n",
       "..        ...           ...               ...  \n",
       "136  7.745077  ic_others_9          numerical  \n",
       "149  1.607016  date_of_last_rech_6  categorical\n",
       "150  1.767018  date_of_last_rech_7  categorical\n",
       "151  3.622036  date_of_last_rech_8  categorical\n",
       "152  4.760048  date_of_last_rech_9  categorical\n",
       "\n",
       "[120 rows x 3 columns]"
      ]
     },
     "execution_count": 12,
     "metadata": {},
     "output_type": "execute_result"
    }
   ],
   "source": [
    "null_df = generate_null_dataframe(data)\n",
    "null_df"
   ]
  },
  {
   "cell_type": "code",
   "execution_count": 13,
   "id": "e80517af",
   "metadata": {},
   "outputs": [
    {
     "data": {
      "text/plain": [
       "(64332, 227)"
      ]
     },
     "execution_count": 13,
     "metadata": {},
     "output_type": "execute_result"
    }
   ],
   "source": [
    "# Removing Outliers \n",
    "Q1 = data.quantile(0.25)\n",
    "Q3 = data.quantile(0.75)\n",
    "IQR = Q3 - Q1\n",
    "data = data[~(((data < (Q1 - (3 * IQR))) |(data > (Q3 + (3 * IQR)))).sum(axis=1) > 20)]\n",
    "data.shape"
   ]
  },
  {
   "cell_type": "code",
   "execution_count": 14,
   "id": "a8b3d02f",
   "metadata": {},
   "outputs": [
    {
     "data": {
      "text/plain": [
       "count    8695.000000\n",
       "mean     59.058010  \n",
       "std      184.779395 \n",
       "min      0.000000   \n",
       "25%      0.000000   \n",
       "50%      0.000000   \n",
       "75%      14.085000  \n",
       "max      3864.680000\n",
       "Name: total_og_mou_8, dtype: float64"
      ]
     },
     "execution_count": 14,
     "metadata": {},
     "output_type": "execute_result"
    }
   ],
   "source": [
    "data_churn = data[data['churn'] == 1]\n",
    "data_nochurn = data[data['churn'] == 0]\n",
    "data_churn.total_og_mou_8.describe()"
   ]
  },
  {
   "cell_type": "code",
   "execution_count": 17,
   "id": "696d7e36",
   "metadata": {},
   "outputs": [],
   "source": [
    "def uni_quant(df, var):\n",
    "    \"\"\"\n",
    "    Method that takes in the dataframe and a quantitaive variable and gives out the univariate analysis.\n",
    "    \n",
    "    @Author- Aryan Singh\n",
    "    \"\"\"\n",
    "    plt.figure(figsize=(14,12))\n",
    "    sb.set(font_scale=1)\n",
    "    plt.subplot(121)\n",
    "    sb.distplot(df[var])\n",
    "    plt.subplot(122)\n",
    "    sb.boxplot(y=var,data=df)\n",
    "    plt.show()\n",
    "    "
   ]
  },
  {
   "cell_type": "code",
   "execution_count": 18,
   "id": "4db620f1",
   "metadata": {},
   "outputs": [
    {
     "data": {
      "image/png": "[encoded data removed]",
      "text/plain": [
       "<Figure size 1008x864 with 2 Axes>"
      ]
     },
     "metadata": {
      "needs_background": "light"
     },
     "output_type": "display_data"
    }
   ],
   "source": [
    "uni_quant(data,'aon')"
   ]
  },
  {
   "cell_type": "code",
   "execution_count": 21,
   "id": "23737f73",
   "metadata": {},
   "outputs": [
    {
     "data": {
      "text/plain": [
       "<Figure size 1080x1080 with 0 Axes>"
      ]
     },
     "execution_count": 21,
     "metadata": {},
     "output_type": "execute_result"
    },
    {
     "data": {
      "text/plain": [
       "<Figure size 1080x1080 with 0 Axes>"
      ]
     },
     "metadata": {},
     "output_type": "display_data"
    }
   ],
   "source": [
    "CHURN = 'churn'\n",
    "cols_avg_6_7 = [c for c in data.columns if(c[-8:] == '_avg_6_7' or CHURN == c)]\n",
    "#cols7 = [c for c in data.columns if(c[-2:] == '_7' or CHURN == c)]\n",
    "cols8 = [c for c in data.columns if(c[-2:] == '_8' or CHURN == c)]\n",
    "miscc_cols = [c for c in data.columns if (c[-2:] != '_6' and c[-2:] != '_7' and c[-2:] != '_8' \n",
    "                                          and c[-8:] != '_avg_6_7' ) and c != 'mobile_number']\n",
    "\n",
    "data_avg_6_7 = data[cols_avg_6_7]\n",
    "plt.figure(figsize=(15,15))"
   ]
  },
  {
   "cell_type": "code",
   "execution_count": 22,
   "id": "fc66c1ae",
   "metadata": {},
   "outputs": [
    {
     "data": {
      "text/plain": [
       "<AxesSubplot:>"
      ]
     },
     "execution_count": 22,
     "metadata": {},
     "output_type": "execute_result"
    },
    {
     "data": {
      "image/png": "[encoded data removed]",
      "text/plain": [
       "<Figure size 432x288 with 2 Axes>"
      ]
     },
     "metadata": {},
     "output_type": "display_data"
    }
   ],
   "source": [
    "# Create correlation matrix\n",
    "corr = data_avg_6_7.corr()\n",
    "sb.set(font_scale=1)\n",
    "sb.heatmap(corr, cmap=\"YlGnBu\", annot=False)"
   ]
  },
  {
   "cell_type": "code",
   "execution_count": 30,
   "id": "9e5f819a",
   "metadata": {},
   "outputs": [],
   "source": [
    "#Using Z score\n",
    "outliers=[]\n",
    "def detect_outliers(data):\n",
    "    \n",
    "    threshold=3\n",
    "    mean = np.mean(data)\n",
    "    std =np.std(data)\n",
    "    \n",
    "    \n",
    "    for i in data:\n",
    "        z_score= (i - mean)/std \n",
    "        if np.abs(z_score) > threshold:\n",
    "            outliers.append(i)\n",
    "    return outliers"
   ]
  },
  {
   "cell_type": "code",
   "execution_count": 31,
   "id": "91f15191",
   "metadata": {},
   "outputs": [
    {
     "data": {
      "text/plain": [
       "[4192,\n",
       " 4194,\n",
       " 4337,\n",
       " 4197,\n",
       " 4192,\n",
       " 4260,\n",
       " 4193,\n",
       " 4197,\n",
       " 4193,\n",
       " 4193,\n",
       " 4197,\n",
       " 4197,\n",
       " 4197,\n",
       " 4197,\n",
       " 4299,\n",
       " 4195,\n",
       " 4197,\n",
       " 4197,\n",
       " 4193,\n",
       " 4193,\n",
       " 4192,\n",
       " 4282,\n",
       " 4193,\n",
       " 4193,\n",
       " 4192]"
      ]
     },
     "execution_count": 31,
     "metadata": {},
     "output_type": "execute_result"
    }
   ],
   "source": [
    "outlier_pt=detect_outliers(data.aon)\n",
    "outlier_pt"
   ]
  },
  {
   "cell_type": "code",
   "execution_count": 34,
   "id": "aa1b0a44",
   "metadata": {},
   "outputs": [
    {
     "data": {
      "text/plain": [
       "[4192,\n",
       " 4192,\n",
       " 4192,\n",
       " 4192,\n",
       " 4193,\n",
       " 4193,\n",
       " 4193,\n",
       " 4193,\n",
       " 4193,\n",
       " 4193,\n",
       " 4193,\n",
       " 4194,\n",
       " 4195,\n",
       " 4197,\n",
       " 4197,\n",
       " 4197,\n",
       " 4197,\n",
       " 4197,\n",
       " 4197,\n",
       " 4197,\n",
       " 4197,\n",
       " 4260,\n",
       " 4282,\n",
       " 4299,\n",
       " 4337]"
      ]
     },
     "execution_count": 34,
     "metadata": {},
     "output_type": "execute_result"
    }
   ],
   "source": [
    "## Performing steps of IQR\n",
    "sorted(outlier_pt)"
   ]
  },
  {
   "cell_type": "code",
   "execution_count": 36,
   "id": "cf68ce5c",
   "metadata": {},
   "outputs": [
    {
     "name": "stdout",
     "output_type": "stream",
     "text": [
      "4193.0 4197.0\n"
     ]
    }
   ],
   "source": [
    "quantile1, quantile3= np.percentile(outlier_pt,[25,75])\n",
    "print(quantile1,quantile3)"
   ]
  },
  {
   "cell_type": "code",
   "execution_count": 37,
   "id": "bea1f2f3",
   "metadata": {},
   "outputs": [
    {
     "name": "stdout",
     "output_type": "stream",
     "text": [
      "4.0\n"
     ]
    }
   ],
   "source": [
    "iqr_value=quantile3-quantile1\n",
    "print(iqr_value)"
   ]
  },
  {
   "cell_type": "code",
   "execution_count": 39,
   "id": "64a2c016",
   "metadata": {},
   "outputs": [
    {
     "name": "stdout",
     "output_type": "stream",
     "text": [
      "4187.0 4203.0\n"
     ]
    }
   ],
   "source": [
    "lower_bound_val = quantile1 -(1.5 * iqr_value) \n",
    "upper_bound_val = quantile3 +(1.5 * iqr_value) \n",
    "print(lower_bound_val,upper_bound_val)"
   ]
  },
  {
   "cell_type": "code",
   "execution_count": null,
   "id": "a1ac7034",
   "metadata": {},
   "outputs": [],
   "source": []
  }
 ],
 "metadata": {
  "kernelspec": {
   "display_name": "Python 3 (ipykernel)",
   "language": "python",
   "name": "python3"
  },
  "language_info": {
   "codemirror_mode": {
    "name": "ipython",
    "version": 3
   },
   "file_extension": ".py",
   "mimetype": "text/x-python",
   "name": "python",
   "nbconvert_exporter": "python",
   "pygments_lexer": "ipython3",
   "version": "3.9.1"
  }
 },
 "nbformat": 4,
 "nbformat_minor": 5
}
